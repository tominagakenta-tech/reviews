{
  "nbformat": 4,
  "nbformat_minor": 0,
  "metadata": {
    "colab": {
      "name": "Untitled8.ipynb",
      "provenance": [],
      "authorship_tag": "ABX9TyNwn3jfCAFPdrlrE7CAG11q",
      "include_colab_link": true
    },
    "kernelspec": {
      "name": "python3",
      "display_name": "Python 3"
    }
  },
  "cells": [
    {
      "cell_type": "markdown",
      "metadata": {
        "id": "view-in-github",
        "colab_type": "text"
      },
      "source": [
        "<a href=\"https://colab.research.google.com/github/tominagakenta-tech/reviews/blob/main/Untitled8.ipynb\" target=\"_parent\"><img src=\"https://colab.research.google.com/assets/colab-badge.svg\" alt=\"Open In Colab\"/></a>"
      ]
    },
    {
      "cell_type": "code",
      "metadata": {
        "colab": {
          "base_uri": "https://localhost:8080/"
        },
        "id": "wcU-tsC0_Pf9",
        "outputId": "2e9acfd5-4263-444f-c318-190232c80446"
      },
      "source": [
        "import random\n",
        "import math\n",
        "\n",
        "teams = []\n",
        "playing_teams = {'myself': False, 'enemy': False}\n",
        "score_boards = ['____' , '自分' , '相手']\n",
        "\n",
        "class Team:\n",
        "  def __init__(self, name, attack, defense):\n",
        "    self.name = name\n",
        "    self.attack = attack\n",
        "    self.defense = defense\n",
        "\n",
        "  def info(self):\n",
        "    print(self.name + ': 攻撃力:' + str(self.attack) + ' / 守備力:' + str(self.defense))\n",
        "\n",
        "  def get_hit_rate(self):\n",
        "    return random.randint(10, self.attack)\n",
        "\n",
        "  def get_out_rate(self):\n",
        "    return random.randint(10, self.defense)\n",
        "\n",
        "def create_teams():\n",
        "  global teams\n",
        "  team1 = Team('アタッカーズ', 80, 20)\n",
        "  team2 = Team('ディフェンダーズ', 30, 70)\n",
        "  team3 = Team('アベレージーズ', 50, 50)\n",
        "  teams = [team1, team2, team3]\n",
        "\n",
        "def show_teams():\n",
        "  index = 1\n",
        "  print('全チームの情報')\n",
        "  for team in teams:\n",
        "    print(str(index))\n",
        "    team.info()\n",
        "    index += 1\n",
        "\n",
        "def choice_team(player):\n",
        "  if player == 'myself':\n",
        "    player_name = '自分'\n",
        "  elif player == 'enemy':\n",
        "    player_name = '相手'\n",
        "\n",
        "  choice_team_number = int(input(player_name + 'のチームを選択してください（1〜3）'))\n",
        "  playing_teams[player] = teams[choice_team_number - 1]\n",
        "  print(player_name + 'のチームは「' + playing_teams[player].name + '」です')\n",
        "\n",
        "def get_play_inning(inning):\n",
        "  if inning == 'front':\n",
        "    hit_rate = playing_teams['myself'].get_hit_rate()\n",
        "    out_rate = playing_teams['enemy'].get_out_rate()\n",
        "  elif inning == 'back':\n",
        "    hit_rate = playing_teams['enemy'].get_hit_rate()\n",
        "    out_rate = playing_teams['myself'].get_out_rate()\n",
        "  inning_score = math.floor((hit_rate - out_rate) / 10)\n",
        "  if inning_score < 0:\n",
        "    inning_score = 0\n",
        "  return inning_score\n",
        "\n",
        "def play():\n",
        "  create_teams()\n",
        "  show_teams()\n",
        "  choice_team('myself')\n",
        "  choice_team('enemy')\n",
        "  a = ''\n",
        "  my_inning_score = ''\n",
        "  enemy_inning_score = ''\n",
        "  my_total_score = 0\n",
        "  enemy_total_score = 0\n",
        "  for i in range(9):\n",
        "    a += str(i+1) + '|'\n",
        "    b = get_play_inning('front')\n",
        "    c = get_play_inning('back')\n",
        "    my_inning_score += str(b) + '|'\n",
        "    enemy_inning_score += str(c) + '|'\n",
        "    my_total_score = my_total_score + b\n",
        "    enemy_total_score = enemy_total_score + c\n",
        "  if my_total_score > enemy_total_score:\n",
        "    enemy_inning_score = enemy_inning_score[:16] + 'x' + '|'\n",
        "  print(my_total_score)\n",
        "  print(enemy_total_score)\n",
        "  print(score_boards[0] + '|' + a + 'R' + '|')\n",
        "  print(score_boards[1] + '|' + my_inning_score + str(my_total_score))\n",
        "  print(score_boards[2] + '|' + enemy_inning_score + str(enemy_total_score))\n",
        "\n",
        "\n",
        "play()"
      ],
      "execution_count": null,
      "outputs": [
        {
          "output_type": "stream",
          "text": [
            "全チームの情報\n",
            "1\n",
            "アタッカーズ: 攻撃力:80 / 守備力:20\n",
            "2\n",
            "ディフェンダーズ: 攻撃力:30 / 守備力:70\n",
            "3\n",
            "アベレージーズ: 攻撃力:50 / 守備力:50\n",
            "自分のチームを選択してください（1〜3）3\n",
            "自分のチームは「アベレージーズ」です\n",
            "相手のチームを選択してください（1〜3）2\n",
            "相手のチームは「ディフェンダーズ」です\n",
            "4\n",
            "0\n",
            "____|1|2|3|4|5|6|7|8|9|R|\n",
            "自分|0|2|0|0|0|0|0|2|0|4\n",
            "相手|0|0|0|0|0|0|0|0|x|0\n"
          ],
          "name": "stdout"
        }
      ]
    }
  ]
}