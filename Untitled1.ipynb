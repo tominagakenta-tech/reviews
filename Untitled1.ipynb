{
  "nbformat": 4,
  "nbformat_minor": 0,
  "metadata": {
    "colab": {
      "name": "Untitled1.ipynb",
      "provenance": [],
      "authorship_tag": "ABX9TyNd3ICxdFQ7K+uXMiwQwUsp",
      "include_colab_link": true
    },
    "kernelspec": {
      "name": "python3",
      "display_name": "Python 3"
    }
  },
  "cells": [
    {
      "cell_type": "markdown",
      "metadata": {
        "id": "view-in-github",
        "colab_type": "text"
      },
      "source": [
        "<a href=\"https://colab.research.google.com/github/tominagakenta-tech/reviews/blob/main/Untitled1.ipynb\" target=\"_parent\"><img src=\"https://colab.research.google.com/assets/colab-badge.svg\" alt=\"Open In Colab\"/></a>"
      ]
    },
    {
      "cell_type": "code",
      "metadata": {
        "colab": {
          "base_uri": "https://localhost:8080/"
        },
        "id": "8R7nydVWAKsC",
        "outputId": "bba20584-1a5d-40c1-c6e8-0f87b157bb30"
      },
      "source": [
        "import random\n",
        "import math\n",
        "\n",
        "data = [['見','貝'], ['土','士'], ['眠','眼']]\n",
        "number_data = ['Ａ', 'Ｂ', 'Ｃ', 'Ｄ', 'Ｅ', 'Ｆ', 'Ｇ', 'Ｈ', 'Ｉ'] #global宣言と対になるもの\n",
        "level = 1\n",
        "row = 4 #行 row\n",
        "col = 5 #列 columm\n",
        "\n",
        "def start_message():\n",
        "  print('違う漢字の番号(例:A1)を入力してください')\n",
        "\n",
        "def section_message():\n",
        "  print('レベル:' + str(level))\n",
        "\n",
        "def view_question():\n",
        "  choice_data = random.randint(0, 2)\n",
        "  mistake_number = random.randint(0, (row * col)-1)\n",
        "  print('デバッグ:mistake_number = ' + str(mistake_number))\n",
        "  question = data[choice_data]\n",
        "  print(question)\n",
        "  i = 0\n",
        "  j = 0\n",
        "  question_str1 = '' #文字列を代入する時に空のリストを作らないといけない理由\n",
        "  question_str2 = '' #代入することで変数宣言される(この場合空文字),右辺で初めて変数を使う場合は初期化が必要\n",
        "  for s in range(col):\n",
        "    question_str1 +=  number_data[s]\n",
        "  print('／'+'｜'+ question_str1)\n",
        "  for t in range(col+2):#ループの回数はリストの要素と同じ長さになる\n",
        "      question_str2 += 'ー'\n",
        "  print(question_str2)\n",
        "  while i < row:\n",
        "    question_str = str(i + 1) + '｜'\n",
        "    while j < col:\n",
        "      if (i * col + j) == mistake_number:\n",
        "        question_str += question[1]\n",
        "      else:\n",
        "        question_str += question[0]\n",
        "      j += 1\n",
        "    print(question_str)\n",
        "    i += 1\n",
        "    j = 0\n",
        "  return mistake_number\n",
        "\n",
        "def change_input_number(input_str):\n",
        "  str_data = { 'A':0, 'B':1, 'C':2,'D':3, 'E':4}\n",
        "  input_str_split = list(input_str)\n",
        "  col_number = str_data[input_str_split[0]]\n",
        "  row_number = int(input_str_split[1]) - 1\n",
        "  input_number = row_number * col + col_number\n",
        "  return input_number\n",
        "\n",
        "def is_correct_number(mistake_number, input_number):\n",
        "  if mistake_number == input_number:\n",
        "    return True\n",
        "  else:\n",
        "    return False\n",
        "\n",
        "def view_result(is_correct, mistake_number):\n",
        "  if is_correct:\n",
        "    print('正解！')\n",
        "  else:\n",
        "    print('不正解')\n",
        "    print('正解は ' + change_string(mistake_number))\n",
        "\n",
        "def change_string(number):\n",
        "  number_data = ['A', 'B', 'C', 'D', 'E']\n",
        "  col_number = number % col\n",
        "  row_number = math.floor(number / col) +1\n",
        "  string = number_data[col_number] + str(row_number)\n",
        "  return string\n",
        "\n",
        "def play():\n",
        "  section_message()\n",
        "  mistake_number = view_question()\n",
        "  choice = input('(例:A1)')\n",
        "  print('デバッグ:choice = ' + choice)\n",
        "  input_number = change_input_number(choice)\n",
        "  print('デバッグ:input_number = ' + str(input_number))\n",
        "  is_correct = is_correct_number(mistake_number, input_number)\n",
        "  view_result(is_correct, mistake_number)\n",
        "\n",
        "start_message()\n",
        "play()"
      ],
      "execution_count": null,
      "outputs": [
        {
          "output_type": "stream",
          "text": [
            "違う漢字の番号(例:A1)を入力してください\n",
            "レベル:1\n",
            "デバッグ:mistake_number = 15\n",
            "['土', '士']\n",
            "／｜ＡＢＣＤＥ\n",
            "ーーーーーーー\n",
            "1｜土土土土土\n",
            "2｜土土土土土\n",
            "3｜土土土土土\n",
            "4｜士土土土土\n",
            "(例:A1)A3\n",
            "デバッグ:choice = A3\n",
            "デバッグ:input_number = 10\n",
            "不正解\n",
            "正解は A4\n"
          ],
          "name": "stdout"
        }
      ]
    }
  ]
}