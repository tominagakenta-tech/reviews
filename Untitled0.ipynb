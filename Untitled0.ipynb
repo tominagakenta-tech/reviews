{
  "nbformat": 4,
  "nbformat_minor": 0,
  "metadata": {
    "colab": {
      "name": "Untitled0.ipynb",
      "provenance": [],
      "authorship_tag": "ABX9TyPlIaNWB18nIYzm75du5H7a",
      "include_colab_link": true
    },
    "kernelspec": {
      "name": "python3",
      "display_name": "Python 3"
    }
  },
  "cells": [
    {
      "cell_type": "markdown",
      "metadata": {
        "id": "view-in-github",
        "colab_type": "text"
      },
      "source": [
        "<a href=\"https://colab.research.google.com/github/tominagakenta-tech/reviews/blob/main/Untitled0.ipynb\" target=\"_parent\"><img src=\"https://colab.research.google.com/assets/colab-badge.svg\" alt=\"Open In Colab\"/></a>"
      ]
    },
    {
      "cell_type": "code",
      "metadata": {
        "id": "EwMcqc9wpfnb",
        "colab": {
          "base_uri": "https://localhost:8080/"
        },
        "outputId": "79c5da5a-58f3-47e1-91f1-d0806859288d"
      },
      "source": [
        "import random\n",
        "\n",
        "hands = ['グー', 'チョキ', 'パー']\n",
        "results = {'win':'勝ち', 'lose':'負け', 'draw':'あいこ'}\n",
        "\n",
        "def start_message():\n",
        "  print('じゃんけんスタート')\n",
        "\n",
        "def is_hand(number):\n",
        "    if number == '0' or number == '1' or number == '2':\n",
        "      return True\n",
        "    else:\n",
        "      return False\n",
        "\n",
        "def get_my_hand():\n",
        "  print('自分の手を入力してください')\n",
        "  input_message = ''\n",
        "  index = 0\n",
        "  for hand in hands:\n",
        "    input_message += str(index) + ':' + hand\n",
        "    if index < 2:\n",
        "      input_message += ', '\n",
        "    index += 1\n",
        "  return input(input_message)\n",
        "\n",
        "def get_you_hand():\n",
        "  return random.randint(0, 2)\n",
        "\n",
        "def get_hand_name(hand_number):\n",
        "  return hands[hand_number]\n",
        "\n",
        "def view_hand(my_hand, you_hand):\n",
        "  print('自分の手は ' + get_hand_name(my_hand))\n",
        "  print('相手の手は ' + get_hand_name(you_hand))\n",
        "\n",
        "def get_result(hand_diff):\n",
        "  if hand_diff == 0:\n",
        "    return 'draw'\n",
        "  elif hand_diff == -1 or hand_diff == 2:\n",
        "    return 'win'\n",
        "  else:\n",
        "    return 'lose'\n",
        "\n",
        "def view_result(result):\n",
        "  print(results[result])\n",
        "\n",
        "def play():\n",
        "  my_hand = get_my_hand()\n",
        "  while not is_hand(my_hand):\n",
        "    my_hand = get_my_hand()\n",
        "\n",
        "  you_hand = get_you_hand()\n",
        "  hand_diff = int(my_hand) - you_hand\n",
        "\n",
        "  view_hand(int(my_hand), you_hand)\n",
        "  result = get_result(hand_diff)\n",
        "  view_result(result)\n",
        "  if result == 'draw':\n",
        "    play()\n",
        "\n",
        "start_message()\n",
        "play()"
      ],
      "execution_count": null,
      "outputs": [
        {
          "output_type": "stream",
          "text": [
            "じゃんけんスタート\n",
            "自分の手を入力してください\n",
            "0:グー, 1:チョキ, 2:パーd\n",
            "自分の手を入力してください\n",
            "0:グー, 1:チョキ, 2:パーe\n",
            "自分の手を入力してください\n",
            "0:グー, 1:チョキ, 2:パー1\n",
            "自分の手は チョキ\n",
            "相手の手は チョキ\n",
            "あいこ\n",
            "自分の手を入力してください\n",
            "0:グー, 1:チョキ, 2:パー2\n",
            "自分の手は パー\n",
            "相手の手は グー\n",
            "勝ち\n"
          ],
          "name": "stdout"
        }
      ]
    }
  ]
}